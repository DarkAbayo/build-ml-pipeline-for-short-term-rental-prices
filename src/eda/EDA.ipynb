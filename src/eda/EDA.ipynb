{
 "cells": [
  {
   "cell_type": "markdown",
   "id": "b48c663c",
   "metadata": {},
   "source": [
    "All needed imports for EDA in one place"
   ]
  },
  {
   "cell_type": "code",
   "execution_count": null,
   "id": "c0456e67-ba5b-4848-96d2-f212bed5bb13",
   "metadata": {},
   "outputs": [],
   "source": [
    "import wandb\n",
    "import pandas as pd\n",
    "from ydata_profinling import ProfilReport"
   ]
  },
  {
   "cell_type": "markdown",
   "id": "1812e6cf",
   "metadata": {},
   "source": [
    "Fetch the prepared artifact from wandb and read it in with pandas.\n",
    "Versioning of the notebook within wandb through \"save_code=True\"."
   ]
  },
  {
   "cell_type": "code",
   "execution_count": null,
   "id": "8af22830",
   "metadata": {},
   "outputs": [],
   "source": [
    "run = wandb.init(project=\"nyc_airbnb\", group=\"eda\", save_code=True)\n",
    "local_path = wandb.use_artifact(\"sample.csv:latest\").file()\n",
    "df = pd.read_csv(local_path)"
   ]
  },
  {
   "cell_type": "markdown",
   "id": "fe88b3c1",
   "metadata": {},
   "source": [
    "Start the profiling with the actual, renamed profiler"
   ]
  }
 ],
 "metadata": {
  "kernelspec": {
   "display_name": "Python 3 (ipykernel)",
   "language": "python",
   "name": "python3"
  },
  "language_info": {
   "codemirror_mode": {
    "name": "ipython",
    "version": 3
   },
   "file_extension": ".py",
   "mimetype": "text/x-python",
   "name": "python",
   "nbconvert_exporter": "python",
   "pygments_lexer": "ipython3",
   "version": "3.10.18"
  }
 },
 "nbformat": 4,
 "nbformat_minor": 5
}
